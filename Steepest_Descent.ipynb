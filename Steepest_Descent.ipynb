{
 "cells": [
  {
   "cell_type": "code",
   "execution_count": null,
   "metadata": {},
   "outputs": [],
   "source": [
    "import numpy as np\n",
    "import time"
   ]
  },
  {
   "cell_type": "code",
   "execution_count": null,
   "metadata": {},
   "outputs": [],
   "source": [
    "def quadraticFunction_f(A: np.array,b: np.array,c: np.float64,X: np.array) -> np.float64:\n",
    "    \"\"\"\n",
    "    Quadratic function with variable X. \n",
    "    A is (n,n) b is (n,1) X is (n,1) and c is a scalar \n",
    "    Computes \\sum_{i,j} a_{i,j} x_i x_j  - \\sum_{i} x_i b_i + c \n",
    "    \"\"\"\n",
    "    return np.dot(X,np.dot(A,X))- np.dot(b,X)+c"
   ]
  },
  {
   "cell_type": "code",
   "execution_count": null,
   "metadata": {},
   "outputs": [],
   "source": [
    "def minusGradient_f(A: np.array,b: np.array,X: np.array) -> np.float64:\n",
    "    \"\"\"\n",
    "    Represents a linear function with matrix A of (n,n) and b vector o\n",
    "    \"\"\"\n",
    "    return b-np.dot(A,X)"
   ]
  },
  {
   "cell_type": "code",
   "execution_count": null,
   "metadata": {},
   "outputs": [],
   "source": [
    "def steepest_descent(A,b,c,x0,epsilon):\n",
    "    minus_gradient=minusGradient_f(A,b,x0)\n",
    "    xi=x0\n",
    "    i=0\n",
    "    while np.linalg.norm(minus_gradient)>=epsilon: # If the norm of the gradient is less than epsilon, we stop\n",
    "        print(\"gradient\",minus_gradient)\n",
    "        print(\"current point\",xi)\n",
    "\n",
    "        print(\"Function value\", quadraticFunction_f(A,b,c,xi))\n",
    "        Ar=np.dot(A,minus_gradient)\n",
    "        gradient_square=np.dot(minus_gradient,minus_gradient)\n",
    "        rAr=np.dot(minus_gradient,Ar)\n",
    "        alphai= gradient_square/rAr\n",
    "        xi=xi+alphai*minus_gradient\n",
    "        minus_gradient=minus_gradient-alphai*Ar\n",
    "        i=i+1\n",
    "        print(i)"
   ]
  },
  {
   "cell_type": "code",
   "execution_count": null,
   "metadata": {},
   "outputs": [],
   "source": [
    "A=np.array([[3,2],[2,6]])\n",
    "b=np.array([2,-8])\n",
    "c=0\n",
    "x0=[0,0]\n",
    "epsilon=0.00001\n",
    "#steepest_descent(A,b,c,x0,epsilon)"
   ]
  },
  {
   "cell_type": "code",
   "execution_count": null,
   "metadata": {},
   "outputs": [],
   "source": [
    "def matrix_notation_polynom_squareloss(x,y,d):\n",
    "    data_size=len(x)\n",
    "    A=np.zeros((d,d))\n",
    "    for i  in range(d):\n",
    "        for j in range(d):\n",
    "            A[i][j]=(sum(x**(i+j)))\n",
    "    A=A/data_size\n",
    "    b=np.zeros(d)\n",
    "    for i in range(d):\n",
    "        b[i]=sum((x**i)*y)\n",
    "    b=2*b/data_size\n",
    "    c=sum(y**2)/data_size\n",
    "    return  (A,b,c)"
   ]
  },
  {
   "cell_type": "code",
   "execution_count": null,
   "metadata": {},
   "outputs": [],
   "source": [
    "def objective_function(A,b,c,w):\n",
    "    return  (np.dot(w,np.dot(A,w)) - np.dot(b,w) +c)"
   ]
  },
  {
   "cell_type": "code",
   "execution_count": null,
   "metadata": {},
   "outputs": [],
   "source": [
    "def full_gradient(A,b,w):\n",
    "    return 2*np.dot(A,w)-b"
   ]
  },
  {
   "cell_type": "code",
   "execution_count": null,
   "metadata": {},
   "outputs": [],
   "source": [
    "def conjugateGradient(A,b,x,epsilon):\n",
    "    d = b - np.dot(A,x)\n",
    "    r = d\n",
    "    i = 0\n",
    "#     while(np.linalg.norm(r) > epsilon):\n",
    "    while i < epsilon:\n",
    "        alpha = np.dot(r,r)/np.dot(d,np.dot(A,d)) # alpha i\n",
    "        x = x + np.dot(alpha , d) # x(i + 1)\n",
    "        r_next = r - np.dot(alpha, np.dot(A , d))\n",
    "        beta = np.dot(r_next,r_next)/np.dot(r,r)\n",
    "        d = r_next + np.dot(beta,d)\n",
    "        r = r_next\n",
    "        i = i + 1\n",
    "        \n",
    "#     print(\"CG steps: \",i)\n",
    "    return x"
   ]
  },
  {
   "cell_type": "code",
   "execution_count": null,
   "metadata": {},
   "outputs": [],
   "source": [
    "def newton_method(x,y,d,w0,alpha,epsilon,k):\n",
    "    u=matrix_notation_polynom_squareloss(x,y,d)\n",
    "    A=u[0]\n",
    "    b=u[1]\n",
    "    c=u[2]\n",
    "    w=w0\n",
    "    gr=full_gradient(A,b,w)\n",
    "    i=0\n",
    "    while objective_function(A,b,c,w) >= epsilon and i < 10000000:\n",
    "        x0=np.zeros(d)\n",
    "        gr=full_gradient(A,b,w)\n",
    "        sk=conjugateGradient(A,-gr,x0,k)\n",
    "        w=w + alpha*sk\n",
    "        i=i+1\n",
    "    return i,w,objective_function(A,b,c,w)"
   ]
  },
  {
   "cell_type": "code",
   "execution_count": null,
   "metadata": {},
   "outputs": [],
   "source": [
    "x=np.arange(1,11)\n",
    "\n",
    "y1 = [1 + 9*x + 10*x**2,3]\n",
    "y2 = [2 + 5*x + 8*x**2,3]\n",
    "y3 = [3 + 6*x + 2*x**2,3]\n",
    "\n",
    "y4 = [5 + 9*x + 4*x**2 + 6*x**3 + 3*x**4,5]\n",
    "y5 = [1 + 1*x + 2*x**2 + 3*x**3 + 4*x**4,5]\n",
    "y6 = [2 + 6*x + 9*x**2 + 5*x**3 + 1*x**4,5]\n",
    "\n",
    "y7 = [1 + 6*x + 8*x**2 + 2*x**3 + 3*x**4 + 10*x**5 + 2*x**6,7]\n",
    "y8 = [2 + 10*x + 8*x**2 + 1*x**3 + 7*x**4 + 3*x**5 + 9*x**6,7]\n",
    "y9 = [5 + 9*x + 10*x**2 + 4*x**3 + 5*x**4 + 5*x**5 + 1*x**6,7]\n",
    "\n",
    "ys = [y1,y2,y3,y4,y5,y6,y7,y8,y9]\n",
    "# ys =[y7,y8,y9]\n",
    "\n",
    "\n",
    "i = 7\n",
    "for y in ys:\n",
    "    d = y[1]\n",
    "    for k in range(1,d+1):\n",
    "        print(\"==============\")\n",
    "        start = time.time()\n",
    "        iterations, final_w, final_cost = newton_method(x,y[0],d,np.zeros(d),0.01,0.1,k)\n",
    "        end = time.time()\n",
    "        print(\"Function: y\",i)\n",
    "        print(\"K: \",k)\n",
    "        print(\"Iterations: \", iterations)\n",
    "        print(\"Final W: \",final_w)\n",
    "        print(\"Final Cost: \", final_cost)\n",
    "        print(\"Time: \",end - start)\n",
    "        \n",
    "        report = np.array([i,k,iterations,final_w,final_cost,end-start])\n",
    "        np.save('outputs/i_'+str(i)+'_k_' + str(k) + '.out', report)\n",
    "    i = i + 1\n",
    "#         print()"
   ]
  }
 ],
 "metadata": {
  "kernelspec": {
   "display_name": "Python 3",
   "language": "python",
   "name": "python3"
  },
  "language_info": {
   "codemirror_mode": {
    "name": "ipython",
    "version": 3
   },
   "file_extension": ".py",
   "mimetype": "text/x-python",
   "name": "python",
   "nbconvert_exporter": "python",
   "pygments_lexer": "ipython3",
   "version": "3.9.12"
  }
 },
 "nbformat": 4,
 "nbformat_minor": 2
}
